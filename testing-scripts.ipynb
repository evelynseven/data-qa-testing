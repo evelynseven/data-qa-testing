{
 "cells": [
  {
   "cell_type": "code",
   "execution_count": null,
   "id": "28297832-ad33-4e6e-98ca-15ce932b3cca",
   "metadata": {},
   "outputs": [],
   "source": [
    "import great_expectations as gx # type: ignore\n",
    "import pandas as pd # type: ignore"
   ]
  },
  {
   "cell_type": "code",
   "execution_count": null,
   "id": "727301db-103d-40e8-ab24-335f2876b9e5",
   "metadata": {},
   "outputs": [],
   "source": [
    "pandas_df = pd.read_excel('./customer-call-list-wrangled.xlsx')"
   ]
  },
  {
   "cell_type": "code",
   "execution_count": null,
   "id": "ae15e5b7-31e2-43d0-a043-5a38c0aad818",
   "metadata": {},
   "outputs": [],
   "source": [
    "df = gx.from_pandas(pandas_df)"
   ]
  },
  {
   "cell_type": "code",
   "execution_count": null,
   "id": "45aa3014",
   "metadata": {},
   "outputs": [],
   "source": [
    "df.expect_column_to_exist('CustomerID')"
   ]
  },
  {
   "cell_type": "code",
   "execution_count": null,
   "id": "e51471d2",
   "metadata": {},
   "outputs": [],
   "source": [
    "df.expect_column_values_to_be_unique('CustomerID')"
   ]
  },
  {
   "cell_type": "code",
   "execution_count": null,
   "id": "f245da19",
   "metadata": {},
   "outputs": [],
   "source": [
    "df.expect_column_values_to_not_be_null('CustomerID')"
   ]
  },
  {
   "cell_type": "code",
   "execution_count": null,
   "id": "cab8bf89",
   "metadata": {},
   "outputs": [],
   "source": [
    "df.expect_column_values_to_not_be_null('First_Name')"
   ]
  },
  {
   "cell_type": "code",
   "execution_count": null,
   "id": "d4b5f0f7",
   "metadata": {},
   "outputs": [],
   "source": [
    "df.expect_column_values_to_not_be_null('Last_Name')"
   ]
  },
  {
   "cell_type": "code",
   "execution_count": null,
   "id": "4ce6ec1c",
   "metadata": {},
   "outputs": [],
   "source": [
    "df.expect_column_value_lengths_to_equal('Phone_Number',11)"
   ]
  },
  {
   "cell_type": "code",
   "execution_count": null,
   "id": "e6f5047d",
   "metadata": {},
   "outputs": [],
   "source": [
    "df.expect_column_values_to_not_be_null('Phone_Number')"
   ]
  },
  {
   "cell_type": "code",
   "execution_count": null,
   "id": "50246092",
   "metadata": {},
   "outputs": [],
   "source": [
    "df.expect_column_values_to_not_be_null('Paying Customer')"
   ]
  },
  {
   "cell_type": "code",
   "execution_count": null,
   "id": "6c90c90d",
   "metadata": {},
   "outputs": [],
   "source": [
    "df.expect_column_values_to_be_in_set(column='Paying Customer', value_set=['Y', 'N'])"
   ]
  },
  {
   "cell_type": "code",
   "execution_count": null,
   "id": "4a213098",
   "metadata": {},
   "outputs": [],
   "source": [
    "df.expect_column_values_to_not_be_null('Do_Not_Contact')"
   ]
  },
  {
   "cell_type": "code",
   "execution_count": null,
   "id": "9f222e6e",
   "metadata": {},
   "outputs": [],
   "source": [
    "df.expect_column_values_to_be_in_set(column='Do_Not_Contact', value_set=['Y', 'N'])"
   ]
  },
  {
   "cell_type": "code",
   "execution_count": null,
   "id": "44804efd",
   "metadata": {},
   "outputs": [],
   "source": [
    "df.expect_column_values_to_not_be_null('Not_Useful_Column')"
   ]
  },
  {
   "cell_type": "code",
   "execution_count": null,
   "id": "c4d2633e",
   "metadata": {},
   "outputs": [],
   "source": [
    "df.expect_column_values_to_be_in_set(column='Not_Useful_Column', value_set=[True, False])"
   ]
  },
  {
   "cell_type": "code",
   "execution_count": null,
   "id": "5e70c60e",
   "metadata": {},
   "outputs": [],
   "source": [
    "df.expect_column_values_to_not_be_in_set(column='Street_Address', value_set=[','])"
   ]
  }
 ],
 "metadata": {
  "kernelspec": {
   "display_name": "Python 3 (ipykernel)",
   "language": "python",
   "name": "python3"
  },
  "language_info": {
   "codemirror_mode": {
    "name": "ipython",
    "version": 3
   },
   "file_extension": ".py",
   "mimetype": "text/x-python",
   "name": "python",
   "nbconvert_exporter": "python",
   "pygments_lexer": "ipython3",
   "version": "3.12.3"
  }
 },
 "nbformat": 4,
 "nbformat_minor": 5
}
