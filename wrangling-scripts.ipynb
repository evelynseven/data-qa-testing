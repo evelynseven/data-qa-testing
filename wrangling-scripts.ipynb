{
 "cells": [
  {
   "cell_type": "code",
   "execution_count": 2,
   "id": "c3541d58-5b49-475f-80f3-8dfbbe3492c6",
   "metadata": {},
   "outputs": [],
   "source": [
    "import pandas as pd # type: ignore"
   ]
  },
  {
   "cell_type": "code",
   "execution_count": 3,
   "id": "20f935a2-e647-45b3-819b-fc06b45bb17c",
   "metadata": {},
   "outputs": [],
   "source": [
    "df = pd.read_excel(\"./Customer Call List.xlsx\")"
   ]
  },
  {
   "cell_type": "code",
   "execution_count": 19,
   "id": "9f81ab54-abb4-4625-8322-d2fc1935ad96",
   "metadata": {},
   "outputs": [],
   "source": [
    "df['Last_Name'] = df['Last_Name'].str.strip(\"./_\")"
   ]
  },
  {
   "cell_type": "code",
   "execution_count": 20,
   "id": "c2ae1dc8-ca6b-45b1-94df-e721c150d3a4",
   "metadata": {},
   "outputs": [],
   "source": [
    "df['Phone_Number'] = df['Phone_Number'].str.replace('[^A-Z0-9]', '', regex = True)"
   ]
  },
  {
   "cell_type": "code",
   "execution_count": 21,
   "id": "a0d4f168-2cab-4c16-a23b-cb190a5c8639",
   "metadata": {},
   "outputs": [],
   "source": [
    "df['Phone_Number'] = df['Phone_Number'].apply(lambda x: str(x)[0:3] + \"-\" + str(x)[3:6] + \"-\" + str(x)[6:])"
   ]
  },
  {
   "cell_type": "code",
   "execution_count": 22,
   "id": "85af43b8-59e9-4b15-9a89-434280c3fac9",
   "metadata": {},
   "outputs": [],
   "source": [
    "df['Phone_Number'] = df['Phone_Number'].str.replace('nan--', '')"
   ]
  },
  {
   "cell_type": "code",
   "execution_count": 23,
   "id": "1191dfbd-4b5a-42c2-82ac-1071f2036bf3",
   "metadata": {},
   "outputs": [],
   "source": [
    "df[['Street_Address', 'State', 'Zip_Code']] = df['Address'].str.split(\",\", expand=True)"
   ]
  },
  {
   "cell_type": "code",
   "execution_count": 24,
   "id": "16b27cc6-5834-4a55-a716-74acbdaaeae7",
   "metadata": {},
   "outputs": [],
   "source": [
    "df['Paying Customer'] = df['Paying Customer'].str.replace('Yes','Y')\n",
    "df['Paying Customer'] = df['Paying Customer'].str.replace('No','N')"
   ]
  },
  {
   "cell_type": "code",
   "execution_count": 25,
   "id": "5ce57965-6f11-42d1-9a25-4aa5b7beac4a",
   "metadata": {},
   "outputs": [],
   "source": [
    "df['Do_Not_Contact'] = df['Do_Not_Contact'].str.replace('Yes','Y')\n",
    "df['Do_Not_Contact'] = df['Do_Not_Contact'].str.replace('No','N')"
   ]
  },
  {
   "cell_type": "code",
   "execution_count": 26,
   "id": "c1a71faa-e773-4183-8d81-d1e19f46cec8",
   "metadata": {},
   "outputs": [],
   "source": [
    "df = df.replace('N/a','')"
   ]
  },
  {
   "cell_type": "code",
   "execution_count": 27,
   "id": "527af153-8fd2-4056-988e-479996a55b9e",
   "metadata": {},
   "outputs": [],
   "source": [
    "df = df.fillna('')"
   ]
  },
  {
   "cell_type": "code",
   "execution_count": 28,
   "id": "28918c6d-ae3a-4bfe-a138-32de868f3edd",
   "metadata": {},
   "outputs": [],
   "source": [
    "for x in df.index:\n",
    "    if df.loc[x, 'Do_Not_Contact'] == 'Y':\n",
    "        df.drop(x, inplace=True)"
   ]
  },
  {
   "cell_type": "code",
   "execution_count": 29,
   "id": "b50818bc-4a4f-406a-b53b-2e8815d776fa",
   "metadata": {},
   "outputs": [],
   "source": [
    "for x in df.index:\n",
    "    if df.loc[x, 'Phone_Number'] == '':\n",
    "        df.drop(x, inplace=True)"
   ]
  },
  {
   "cell_type": "code",
   "execution_count": 30,
   "id": "9f59907e-563e-415f-8ec7-94a0d27db38c",
   "metadata": {},
   "outputs": [],
   "source": [
    "df = df.drop('Address', axis=1)"
   ]
  },
  {
   "cell_type": "code",
   "execution_count": 31,
   "id": "04fe27de-8294-48d4-b07f-1ef15de91a54",
   "metadata": {},
   "outputs": [],
   "source": [
    "df = df.reset_index(drop=True)"
   ]
  },
  {
   "cell_type": "code",
   "execution_count": 32,
   "id": "2c18e2cd-bc36-4308-a749-ce7c0eae3d8d",
   "metadata": {},
   "outputs": [],
   "source": [
    "df.to_excel(\"./customer-call-list-wrangled.xlsx\")"
   ]
  }
 ],
 "metadata": {
  "kernelspec": {
   "display_name": "Python 3 (ipykernel)",
   "language": "python",
   "name": "python3"
  },
  "language_info": {
   "codemirror_mode": {
    "name": "ipython",
    "version": 3
   },
   "file_extension": ".py",
   "mimetype": "text/x-python",
   "name": "python",
   "nbconvert_exporter": "python",
   "pygments_lexer": "ipython3",
   "version": "3.12.3"
  }
 },
 "nbformat": 4,
 "nbformat_minor": 5
}
